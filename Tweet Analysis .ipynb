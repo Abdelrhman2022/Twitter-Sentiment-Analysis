{
 "cells": [
  {
   "cell_type": "code",
   "execution_count": 29,
   "id": "1caf48a9",
   "metadata": {},
   "outputs": [],
   "source": [
    "import numpy as np\n",
    "import pandas as pd\n",
    "import matplotlib.pyplot as plt\n",
    "import seaborn as sb\n",
    "from sklearn.preprocessing import LabelEncoder\n",
    "from sklearn.model_selection import train_test_split\n",
    "from sklearn import metrics\n",
    "import nltk\n",
    "import re\n",
    "from nltk.corpus import stopwords\n",
    "from nltk.stem.porter import PorterStemmer\n",
    "from nltk.tokenize import word_tokenize\n",
    "from nltk.stem import WordNetLemmatizer\n",
    "import tensorflow\n",
    "import keras\n",
    "from keras.preprocessing.text import one_hot\n",
    "from keras.preprocessing.sequence import pad_sequences\n",
    "from keras.models import Sequential\n",
    "from keras.layers import Dense, LSTM, Dropout, Embedding, Bidirectional\n",
    "from keras.utils.all_utils import plot_model\n",
    "from keras.callbacks import TensorBoard"
   ]
  },
  {
   "cell_type": "code",
   "execution_count": 81,
   "id": "bdddcf53",
   "metadata": {},
   "outputs": [],
   "source": [
    "# Hyper-Parameters\n",
    "max_features = 5000\n",
    "no_classes = 1\n",
    "max_length = 100\n",
    "batch_size = 32\n",
    "embedding_size = 64\n",
    "dropout_rate = 0.5\n",
    "no_epochs = 10"
   ]
  },
  {
   "cell_type": "code",
   "execution_count": 82,
   "id": "461a9345",
   "metadata": {},
   "outputs": [
    {
     "data": {
      "text/html": [
       "<div>\n",
       "<style scoped>\n",
       "    .dataframe tbody tr th:only-of-type {\n",
       "        vertical-align: middle;\n",
       "    }\n",
       "\n",
       "    .dataframe tbody tr th {\n",
       "        vertical-align: top;\n",
       "    }\n",
       "\n",
       "    .dataframe thead th {\n",
       "        text-align: right;\n",
       "    }\n",
       "</style>\n",
       "<table border=\"1\" class=\"dataframe\">\n",
       "  <thead>\n",
       "    <tr style=\"text-align: right;\">\n",
       "      <th></th>\n",
       "      <th>UserName</th>\n",
       "      <th>ScreenName</th>\n",
       "      <th>Location</th>\n",
       "      <th>TweetAt</th>\n",
       "      <th>OriginalTweet</th>\n",
       "      <th>Sentiment</th>\n",
       "    </tr>\n",
       "  </thead>\n",
       "  <tbody>\n",
       "    <tr>\n",
       "      <th>0</th>\n",
       "      <td>1</td>\n",
       "      <td>44953</td>\n",
       "      <td>NYC</td>\n",
       "      <td>02-03-2020</td>\n",
       "      <td>TRENDING: New Yorkers encounter empty supermar...</td>\n",
       "      <td>Extremely Negative</td>\n",
       "    </tr>\n",
       "    <tr>\n",
       "      <th>1</th>\n",
       "      <td>2</td>\n",
       "      <td>44954</td>\n",
       "      <td>Seattle, WA</td>\n",
       "      <td>02-03-2020</td>\n",
       "      <td>When I couldn't find hand sanitizer at Fred Me...</td>\n",
       "      <td>Positive</td>\n",
       "    </tr>\n",
       "    <tr>\n",
       "      <th>2</th>\n",
       "      <td>3</td>\n",
       "      <td>44955</td>\n",
       "      <td>NaN</td>\n",
       "      <td>02-03-2020</td>\n",
       "      <td>Find out how you can protect yourself and love...</td>\n",
       "      <td>Extremely Positive</td>\n",
       "    </tr>\n",
       "    <tr>\n",
       "      <th>3</th>\n",
       "      <td>4</td>\n",
       "      <td>44956</td>\n",
       "      <td>Chicagoland</td>\n",
       "      <td>02-03-2020</td>\n",
       "      <td>#Panic buying hits #NewYork City as anxious sh...</td>\n",
       "      <td>Negative</td>\n",
       "    </tr>\n",
       "    <tr>\n",
       "      <th>4</th>\n",
       "      <td>5</td>\n",
       "      <td>44957</td>\n",
       "      <td>Melbourne, Victoria</td>\n",
       "      <td>03-03-2020</td>\n",
       "      <td>#toiletpaper #dunnypaper #coronavirus #coronav...</td>\n",
       "      <td>Neutral</td>\n",
       "    </tr>\n",
       "  </tbody>\n",
       "</table>\n",
       "</div>"
      ],
      "text/plain": [
       "   UserName  ScreenName             Location     TweetAt  \\\n",
       "0         1       44953                  NYC  02-03-2020   \n",
       "1         2       44954          Seattle, WA  02-03-2020   \n",
       "2         3       44955                  NaN  02-03-2020   \n",
       "3         4       44956          Chicagoland  02-03-2020   \n",
       "4         5       44957  Melbourne, Victoria  03-03-2020   \n",
       "\n",
       "                                       OriginalTweet           Sentiment  \n",
       "0  TRENDING: New Yorkers encounter empty supermar...  Extremely Negative  \n",
       "1  When I couldn't find hand sanitizer at Fred Me...            Positive  \n",
       "2  Find out how you can protect yourself and love...  Extremely Positive  \n",
       "3  #Panic buying hits #NewYork City as anxious sh...            Negative  \n",
       "4  #toiletpaper #dunnypaper #coronavirus #coronav...             Neutral  "
      ]
     },
     "execution_count": 82,
     "metadata": {},
     "output_type": "execute_result"
    }
   ],
   "source": [
    "data = pd.read_csv(\"Corona_NLP_test.csv\")\n",
    "data.head()"
   ]
  },
  {
   "cell_type": "code",
   "execution_count": 83,
   "id": "cddb1771",
   "metadata": {},
   "outputs": [
    {
     "data": {
      "text/plain": [
       "(3798, 6)"
      ]
     },
     "execution_count": 83,
     "metadata": {},
     "output_type": "execute_result"
    }
   ],
   "source": [
    "data.shape"
   ]
  },
  {
   "cell_type": "code",
   "execution_count": 84,
   "id": "af39fadd",
   "metadata": {},
   "outputs": [
    {
     "data": {
      "text/plain": [
       "0    0\n",
       "1    4\n",
       "2    1\n",
       "3    2\n",
       "4    3\n",
       "Name: Sentiment, dtype: int32"
      ]
     },
     "execution_count": 84,
     "metadata": {},
     "output_type": "execute_result"
    }
   ],
   "source": [
    "data['Sentiment'] = LabelEncoder().fit_transform(data['Sentiment'])\n",
    "data['Sentiment'].head()"
   ]
  },
  {
   "cell_type": "code",
   "execution_count": 85,
   "id": "4a5e0415",
   "metadata": {},
   "outputs": [
    {
     "data": {
      "text/plain": [
       "UserName           0\n",
       "ScreenName         0\n",
       "Location         834\n",
       "TweetAt            0\n",
       "OriginalTweet      0\n",
       "Sentiment          0\n",
       "dtype: int64"
      ]
     },
     "execution_count": 85,
     "metadata": {},
     "output_type": "execute_result"
    }
   ],
   "source": [
    "data.isnull().sum()"
   ]
  },
  {
   "cell_type": "code",
   "execution_count": 86,
   "id": "91a59436",
   "metadata": {},
   "outputs": [
    {
     "name": "stdout",
     "output_type": "stream",
     "text": [
      "<class 'pandas.core.frame.DataFrame'>\n",
      "RangeIndex: 3798 entries, 0 to 3797\n",
      "Data columns (total 6 columns):\n",
      " #   Column         Non-Null Count  Dtype \n",
      "---  ------         --------------  ----- \n",
      " 0   UserName       3798 non-null   int64 \n",
      " 1   ScreenName     3798 non-null   int64 \n",
      " 2   Location       2964 non-null   object\n",
      " 3   TweetAt        3798 non-null   object\n",
      " 4   OriginalTweet  3798 non-null   object\n",
      " 5   Sentiment      3798 non-null   int32 \n",
      "dtypes: int32(1), int64(2), object(3)\n",
      "memory usage: 163.3+ KB\n"
     ]
    }
   ],
   "source": [
    "data.info()"
   ]
  },
  {
   "cell_type": "code",
   "execution_count": 87,
   "id": "a16fc943",
   "metadata": {},
   "outputs": [
    {
     "data": {
      "text/html": [
       "<div>\n",
       "<style scoped>\n",
       "    .dataframe tbody tr th:only-of-type {\n",
       "        vertical-align: middle;\n",
       "    }\n",
       "\n",
       "    .dataframe tbody tr th {\n",
       "        vertical-align: top;\n",
       "    }\n",
       "\n",
       "    .dataframe thead th {\n",
       "        text-align: right;\n",
       "    }\n",
       "</style>\n",
       "<table border=\"1\" class=\"dataframe\">\n",
       "  <thead>\n",
       "    <tr style=\"text-align: right;\">\n",
       "      <th></th>\n",
       "      <th>UserName</th>\n",
       "      <th>ScreenName</th>\n",
       "      <th>Sentiment</th>\n",
       "    </tr>\n",
       "  </thead>\n",
       "  <tbody>\n",
       "    <tr>\n",
       "      <th>count</th>\n",
       "      <td>3798.000000</td>\n",
       "      <td>3798.000000</td>\n",
       "      <td>3798.000000</td>\n",
       "    </tr>\n",
       "    <tr>\n",
       "      <th>mean</th>\n",
       "      <td>1899.500000</td>\n",
       "      <td>46851.500000</td>\n",
       "      <td>2.192206</td>\n",
       "    </tr>\n",
       "    <tr>\n",
       "      <th>std</th>\n",
       "      <td>1096.532489</td>\n",
       "      <td>1096.532489</td>\n",
       "      <td>1.380256</td>\n",
       "    </tr>\n",
       "    <tr>\n",
       "      <th>min</th>\n",
       "      <td>1.000000</td>\n",
       "      <td>44953.000000</td>\n",
       "      <td>0.000000</td>\n",
       "    </tr>\n",
       "    <tr>\n",
       "      <th>25%</th>\n",
       "      <td>950.250000</td>\n",
       "      <td>45902.250000</td>\n",
       "      <td>1.000000</td>\n",
       "    </tr>\n",
       "    <tr>\n",
       "      <th>50%</th>\n",
       "      <td>1899.500000</td>\n",
       "      <td>46851.500000</td>\n",
       "      <td>2.000000</td>\n",
       "    </tr>\n",
       "    <tr>\n",
       "      <th>75%</th>\n",
       "      <td>2848.750000</td>\n",
       "      <td>47800.750000</td>\n",
       "      <td>3.000000</td>\n",
       "    </tr>\n",
       "    <tr>\n",
       "      <th>max</th>\n",
       "      <td>3798.000000</td>\n",
       "      <td>48750.000000</td>\n",
       "      <td>4.000000</td>\n",
       "    </tr>\n",
       "  </tbody>\n",
       "</table>\n",
       "</div>"
      ],
      "text/plain": [
       "          UserName    ScreenName    Sentiment\n",
       "count  3798.000000   3798.000000  3798.000000\n",
       "mean   1899.500000  46851.500000     2.192206\n",
       "std    1096.532489   1096.532489     1.380256\n",
       "min       1.000000  44953.000000     0.000000\n",
       "25%     950.250000  45902.250000     1.000000\n",
       "50%    1899.500000  46851.500000     2.000000\n",
       "75%    2848.750000  47800.750000     3.000000\n",
       "max    3798.000000  48750.000000     4.000000"
      ]
     },
     "execution_count": 87,
     "metadata": {},
     "output_type": "execute_result"
    }
   ],
   "source": [
    "# lets summarize the Dataset\n",
    "data.describe()"
   ]
  },
  {
   "cell_type": "code",
   "execution_count": 88,
   "id": "f4e336c0",
   "metadata": {},
   "outputs": [
    {
     "data": {
      "text/html": [
       "<div>\n",
       "<style scoped>\n",
       "    .dataframe tbody tr th:only-of-type {\n",
       "        vertical-align: middle;\n",
       "    }\n",
       "\n",
       "    .dataframe tbody tr th {\n",
       "        vertical-align: top;\n",
       "    }\n",
       "\n",
       "    .dataframe thead th {\n",
       "        text-align: right;\n",
       "    }\n",
       "</style>\n",
       "<table border=\"1\" class=\"dataframe\">\n",
       "  <thead>\n",
       "    <tr style=\"text-align: right;\">\n",
       "      <th></th>\n",
       "      <th>Location</th>\n",
       "      <th>TweetAt</th>\n",
       "      <th>OriginalTweet</th>\n",
       "    </tr>\n",
       "  </thead>\n",
       "  <tbody>\n",
       "    <tr>\n",
       "      <th>count</th>\n",
       "      <td>2964</td>\n",
       "      <td>3798</td>\n",
       "      <td>3798</td>\n",
       "    </tr>\n",
       "    <tr>\n",
       "      <th>unique</th>\n",
       "      <td>1717</td>\n",
       "      <td>15</td>\n",
       "      <td>3798</td>\n",
       "    </tr>\n",
       "    <tr>\n",
       "      <th>top</th>\n",
       "      <td>United States</td>\n",
       "      <td>13-03-2020</td>\n",
       "      <td>TRENDING: New Yorkers encounter empty supermar...</td>\n",
       "    </tr>\n",
       "    <tr>\n",
       "      <th>freq</th>\n",
       "      <td>75</td>\n",
       "      <td>1233</td>\n",
       "      <td>1</td>\n",
       "    </tr>\n",
       "  </tbody>\n",
       "</table>\n",
       "</div>"
      ],
      "text/plain": [
       "             Location     TweetAt  \\\n",
       "count            2964        3798   \n",
       "unique           1717          15   \n",
       "top     United States  13-03-2020   \n",
       "freq               75        1233   \n",
       "\n",
       "                                            OriginalTweet  \n",
       "count                                                3798  \n",
       "unique                                               3798  \n",
       "top     TRENDING: New Yorkers encounter empty supermar...  \n",
       "freq                                                    1  "
      ]
     },
     "execution_count": 88,
     "metadata": {},
     "output_type": "execute_result"
    }
   ],
   "source": [
    "# lets summarize Categorical data also\n",
    "data.describe(include = 'object')"
   ]
  },
  {
   "cell_type": "code",
   "execution_count": 89,
   "id": "5ed2e6bf",
   "metadata": {},
   "outputs": [],
   "source": [
    "x = data[data.columns.difference(['Sentiment'])]\n",
    "y = data['Sentiment']"
   ]
  },
  {
   "cell_type": "code",
   "execution_count": null,
   "id": "37e6c513",
   "metadata": {},
   "outputs": [],
   "source": []
  },
  {
   "cell_type": "markdown",
   "id": "aa6e9f34",
   "metadata": {},
   "source": [
    "### Cleaning the Reviews"
   ]
  },
  {
   "cell_type": "code",
   "execution_count": 90,
   "id": "d2f630d6",
   "metadata": {},
   "outputs": [],
   "source": [
    "def clean_data(text):\n",
    "    return ' '.join(re.sub(\"(@[a-zA-Z0-9]+)|([^0-9A-Za-z])|(https://[\\w.]+/[\\w]+)\", \" \", text).split())\n",
    "\n",
    "data['OriginalTweet'] = data['OriginalTweet'].apply(clean_data)"
   ]
  },
  {
   "cell_type": "code",
   "execution_count": 91,
   "id": "4f878ce3",
   "metadata": {},
   "outputs": [],
   "source": [
    "# as it is clear that the reviews have so many unnecassry things such as Stopwords, Punctuations, numbers etc\n",
    "import string\n",
    "# First lets remove Punctuations from the Reviews\n",
    "def punctuation_removal(messy_str):\n",
    "    clean_list = [char for char in messy_str if char not in string.punctuation]\n",
    "    clean_str = ''.join(clean_list)\n",
    "    return clean_str\n",
    "\n",
    "data['OriginalTweet'] = data['OriginalTweet'].apply(punctuation_removal)"
   ]
  },
  {
   "cell_type": "code",
   "execution_count": 92,
   "id": "fbcc1633",
   "metadata": {},
   "outputs": [],
   "source": [
    "# Now lets Remove the Stopwords also\n",
    "\n",
    "from nltk.corpus import stopwords\n",
    "from nltk.tokenize import word_tokenize\n",
    "\n",
    "stop = stopwords.words('english')\n",
    "stop.append(\"i'm\")\n",
    "\n",
    "stop_words = []\n",
    "\n",
    "for item in stop: \n",
    "    new_item = punctuation_removal(item)\n",
    "    stop_words.append(new_item) \n",
    "\n",
    "def stopwords_removal(messy_str):\n",
    "    messy_str = word_tokenize(messy_str)\n",
    "    return [word.lower() for word in messy_str \n",
    "            if word.lower() not in stop_words ]\n",
    "\n",
    "data['OriginalTweet'] = data['OriginalTweet'].apply(stopwords_removal)"
   ]
  },
  {
   "cell_type": "code",
   "execution_count": 93,
   "id": "01b92fc2",
   "metadata": {},
   "outputs": [],
   "source": [
    "# lets remove the Numbers also\n",
    "\n",
    "import re\n",
    "def drop_numbers(list_text):\n",
    "    list_text_new = []\n",
    "    for i in list_text:\n",
    "        if not re.search('\\d', i):\n",
    "            list_text_new.append(i)\n",
    "    return ' '.join(list_text_new)\n",
    "\n",
    "data['OriginalTweet'] = data['OriginalTweet'].apply(drop_numbers)"
   ]
  },
  {
   "cell_type": "code",
   "execution_count": 94,
   "id": "dfc727f8",
   "metadata": {},
   "outputs": [],
   "source": [
    "# function for stemming and Lemmatization \n",
    "import en_core_web_sm\n",
    "nlp = en_core_web_sm.load()\n",
    "corpus = []\n",
    "for i in range(len(x)):\n",
    "    Tweet = data['OriginalTweet'][i]\n",
    "    stemmer = PorterStemmer()\n",
    "    Tweet = ' '.join([stemmer.stem(word) for word in Tweet.split()])\n",
    "    Tweet = nlp(Tweet)\n",
    "    Tweet = ' '.join([word.lemma_ if word.lemma_ != '-PRON-' else word.Tweet for word in Tweet])\n",
    "    corpus.append(Tweet) "
   ]
  },
  {
   "cell_type": "code",
   "execution_count": 95,
   "id": "c85f3b0e",
   "metadata": {},
   "outputs": [
    {
     "data": {
      "text/plain": [
       "'trend new yorker encount empti supermarket shelv pictur wegman brooklyn sell onlin grocer foodkick maxdeliveri coronaviru fear shopper stock'"
      ]
     },
     "execution_count": 95,
     "metadata": {},
     "output_type": "execute_result"
    }
   ],
   "source": [
    "corpus[0]"
   ]
  },
  {
   "cell_type": "code",
   "execution_count": 96,
   "id": "5ba73230",
   "metadata": {},
   "outputs": [
    {
     "data": {
      "text/plain": [
       "[3189,\n",
       " 2022,\n",
       " 2978,\n",
       " 647,\n",
       " 1543,\n",
       " 554,\n",
       " 3294,\n",
       " 683,\n",
       " 2657,\n",
       " 605,\n",
       " 1095,\n",
       " 4050,\n",
       " 2909,\n",
       " 2049,\n",
       " 1181,\n",
       " 4969,\n",
       " 1278,\n",
       " 1837,\n",
       " 1455]"
      ]
     },
     "execution_count": 96,
     "metadata": {},
     "output_type": "execute_result"
    }
   ],
   "source": [
    "on_hot_r = [one_hot(corpus[0], max_features) for word in corpus]\n",
    "on_hot_r[0]"
   ]
  },
  {
   "cell_type": "code",
   "execution_count": 97,
   "id": "d8b6c44b",
   "metadata": {},
   "outputs": [
    {
     "data": {
      "text/plain": [
       "array([[   0,    0,    0, ..., 1278, 1837, 1455],\n",
       "       [   0,    0,    0, ..., 1278, 1837, 1455],\n",
       "       [   0,    0,    0, ..., 1278, 1837, 1455],\n",
       "       ...,\n",
       "       [   0,    0,    0, ..., 1278, 1837, 1455],\n",
       "       [   0,    0,    0, ..., 1278, 1837, 1455],\n",
       "       [   0,    0,    0, ..., 1278, 1837, 1455]])"
      ]
     },
     "execution_count": 97,
     "metadata": {},
     "output_type": "execute_result"
    }
   ],
   "source": [
    "input = pad_sequences(on_hot_r,maxlen= max_length, padding='pre' )\n",
    "input"
   ]
  },
  {
   "cell_type": "code",
   "execution_count": 98,
   "id": "85ce59d9",
   "metadata": {},
   "outputs": [],
   "source": [
    "final_x = np.array(input)\n",
    "final_y = np.array(y).reshape(-1,1)"
   ]
  },
  {
   "cell_type": "code",
   "execution_count": 99,
   "id": "bc7c28b4",
   "metadata": {},
   "outputs": [],
   "source": [
    "# splitting the data into training and testing sets\n",
    "\n",
    "from sklearn.model_selection import train_test_split\n",
    "\n",
    "x_train, x_test, y_train, y_test = train_test_split(final_x, final_y, test_size = 0.3, random_state = 15)"
   ]
  },
  {
   "cell_type": "markdown",
   "id": "52df0d79",
   "metadata": {},
   "source": [
    "### Build Model"
   ]
  },
  {
   "cell_type": "code",
   "execution_count": null,
   "id": "96cc1ae8",
   "metadata": {},
   "outputs": [],
   "source": []
  },
  {
   "cell_type": "code",
   "execution_count": 100,
   "id": "47437273",
   "metadata": {},
   "outputs": [
    {
     "name": "stdout",
     "output_type": "stream",
     "text": [
      "Building LSTM Model..\n"
     ]
    }
   ],
   "source": [
    "# Design Neural Network Architecture with LSTM\n",
    "print('Building LSTM Model..')\n",
    "\n",
    "model = Sequential()\n",
    "# Add Embedding layer\n",
    "model.add(Embedding(max_features, embedding_size, input_length=max_length))\n",
    "# Add Bidirectional LSTM Layer\n",
    "model.add(Bidirectional(LSTM(64)))\n",
    "model.add(Dropout(dropout_rate))\n",
    "# Output Layer \n",
    "model.add(Dense(no_classes, activation='sigmoid'))"
   ]
  },
  {
   "cell_type": "code",
   "execution_count": 101,
   "id": "4e3bd63a",
   "metadata": {},
   "outputs": [
    {
     "name": "stdout",
     "output_type": "stream",
     "text": [
      "Model: \"sequential_6\"\n",
      "_________________________________________________________________\n",
      " Layer (type)                Output Shape              Param #   \n",
      "=================================================================\n",
      " embedding_6 (Embedding)     (None, 100, 64)           320000    \n",
      "                                                                 \n",
      " bidirectional_5 (Bidirectio  (None, 128)              66048     \n",
      " nal)                                                            \n",
      "                                                                 \n",
      " dropout_5 (Dropout)         (None, 128)               0         \n",
      "                                                                 \n",
      " dense_5 (Dense)             (None, 1)                 129       \n",
      "                                                                 \n",
      "=================================================================\n",
      "Total params: 386,177\n",
      "Trainable params: 386,177\n",
      "Non-trainable params: 0\n",
      "_________________________________________________________________\n"
     ]
    }
   ],
   "source": [
    "model.compile(optimizer='adam', loss='categorical_crossentropy', metrics=['accuracy'])\n",
    "model.summary()"
   ]
  },
  {
   "cell_type": "code",
   "execution_count": 102,
   "id": "a2499884",
   "metadata": {},
   "outputs": [
    {
     "name": "stdout",
     "output_type": "stream",
     "text": [
      "You must install pydot (`pip install pydot`) and install graphviz (see instructions at https://graphviz.gitlab.io/download/) for plot_model/model_to_dot to work.\n"
     ]
    }
   ],
   "source": [
    "plot_model(model)"
   ]
  },
  {
   "cell_type": "code",
   "execution_count": 103,
   "id": "c224a7fb",
   "metadata": {},
   "outputs": [
    {
     "name": "stdout",
     "output_type": "stream",
     "text": [
      "Training the model..\n",
      "Epoch 1/10\n",
      "84/84 [==============================] - 5s 33ms/step - loss: 0.0000e+00 - accuracy: 0.1565 - val_loss: 0.0000e+00 - val_accuracy: 0.1605\n",
      "Epoch 2/10\n",
      "84/84 [==============================] - 2s 24ms/step - loss: 0.0000e+00 - accuracy: 0.1565 - val_loss: 0.0000e+00 - val_accuracy: 0.1605\n",
      "Epoch 3/10\n",
      "84/84 [==============================] - 2s 24ms/step - loss: 0.0000e+00 - accuracy: 0.1565 - val_loss: 0.0000e+00 - val_accuracy: 0.1605\n",
      "Epoch 4/10\n",
      "84/84 [==============================] - 2s 24ms/step - loss: 0.0000e+00 - accuracy: 0.1565 - val_loss: 0.0000e+00 - val_accuracy: 0.1605\n",
      "Epoch 5/10\n",
      "84/84 [==============================] - 2s 24ms/step - loss: 0.0000e+00 - accuracy: 0.1565 - val_loss: 0.0000e+00 - val_accuracy: 0.1605\n",
      "Epoch 6/10\n",
      "84/84 [==============================] - 2s 25ms/step - loss: 0.0000e+00 - accuracy: 0.1565 - val_loss: 0.0000e+00 - val_accuracy: 0.1605\n",
      "Epoch 7/10\n",
      "84/84 [==============================] - 2s 25ms/step - loss: 0.0000e+00 - accuracy: 0.1565 - val_loss: 0.0000e+00 - val_accuracy: 0.1605\n",
      "Epoch 8/10\n",
      "84/84 [==============================] - 2s 26ms/step - loss: 0.0000e+00 - accuracy: 0.1565 - val_loss: 0.0000e+00 - val_accuracy: 0.1605\n",
      "Epoch 9/10\n",
      "84/84 [==============================] - 2s 26ms/step - loss: 0.0000e+00 - accuracy: 0.1565 - val_loss: 0.0000e+00 - val_accuracy: 0.1605\n",
      "Epoch 10/10\n",
      "84/84 [==============================] - 2s 27ms/step - loss: 0.0000e+00 - accuracy: 0.1565 - val_loss: 0.0000e+00 - val_accuracy: 0.1605\n"
     ]
    },
    {
     "data": {
      "text/plain": [
       "<keras.callbacks.History at 0x21147a0a288>"
      ]
     },
     "execution_count": 103,
     "metadata": {},
     "output_type": "execute_result"
    }
   ],
   "source": [
    "# TensorBoard\n",
    "tensorboard = TensorBoard('/LSTM')\n",
    "\n",
    "# Train!\n",
    "print('Training the model..')\n",
    "model.fit(x_train, y_train, batch_size=batch_size, verbose=1, epochs=no_epochs, validation_data=[x_test, y_test], callbacks = [tensorboard])"
   ]
  },
  {
   "cell_type": "code",
   "execution_count": null,
   "id": "670efb4e",
   "metadata": {},
   "outputs": [],
   "source": []
  }
 ],
 "metadata": {
  "kernelspec": {
   "display_name": "Python 3 (ipykernel)",
   "language": "python",
   "name": "python3"
  },
  "language_info": {
   "codemirror_mode": {
    "name": "ipython",
    "version": 3
   },
   "file_extension": ".py",
   "mimetype": "text/x-python",
   "name": "python",
   "nbconvert_exporter": "python",
   "pygments_lexer": "ipython3",
   "version": "3.7.11"
  }
 },
 "nbformat": 4,
 "nbformat_minor": 5
}
